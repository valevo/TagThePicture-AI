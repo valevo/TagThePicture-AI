{
 "cells": [
  {
   "cell_type": "markdown",
   "id": "d0c7be6f-d2de-4b4a-a4ef-9f50ef852dd4",
   "metadata": {},
   "source": [
    "### training cost calculations"
   ]
  },
  {
   "cell_type": "code",
   "execution_count": null,
   "id": "7235795a-0729-4c22-98bf-4915bd9de853",
   "metadata": {},
   "outputs": [],
   "source": [
    "len(df.image_id.unique())/32\n",
    "\n",
    "batches=200 # 6400 images w. batch size of 32\n",
    "seconds_per_batch = 10\n",
    "\n",
    "iterations = 5\n",
    "parameters_space = 10\n",
    "\n",
    "parameters_space*iterations*batches*seconds_per_batch/3600"
   ]
  },
  {
   "cell_type": "markdown",
   "id": "0705080b-6bc7-4653-af77-6fe023b89274",
   "metadata": {},
   "source": [
    "---\n",
    "# "
   ]
  },
  {
   "cell_type": "code",
   "execution_count": 2,
   "id": "1291fb48-601f-4ac7-958d-136ebcbb90be",
   "metadata": {},
   "outputs": [],
   "source": [
    "import json \n",
    "import numpy as np\n",
    "import pandas as pd\n",
    "import matplotlib.pyplot as plt\n",
    "# import seaborn as sns\n",
    "from tqdm import tqdm\n",
    "\n",
    "DATA_PATH = \"../../data/private/\"\n",
    "\n",
    "# file received from Marjolijn on 12.11.2024 \n",
    "f = DATA_PATH+\"ExportJSON_Sceneherkenning1_20112024-_20241120084401(1).json\"\n",
    "\n",
    "with open(f) as handle:\n",
    "    j = json.load(handle)"
   ]
  },
  {
   "cell_type": "code",
   "execution_count": 106,
   "id": "dd2e8c07-8c7c-437b-9f44-7a646af9c183",
   "metadata": {},
   "outputs": [
    {
     "data": {
      "text/plain": [
       "dict_keys(['info', 'licenses', 'object_labels', 'image_labels', 'images', 'image_annotations', 'object_annotations'])"
      ]
     },
     "execution_count": 106,
     "metadata": {},
     "output_type": "execute_result"
    }
   ],
   "source": [
    "j.keys()"
   ]
  },
  {
   "cell_type": "code",
   "execution_count": 122,
   "id": "50d4f821-b938-4dc6-8ad6-bb2ec039d995",
   "metadata": {
    "scrolled": true
   },
   "outputs": [
    {
     "data": {
      "text/plain": [
       "[{'id': 'fd6238ce-2203-4bca-8dd4-5286a5db5002',\n",
       "  'source_id': 'https://www.wikidata.org/entity/Q112184776',\n",
       "  'name': 'event',\n",
       "  'parent_id': None},\n",
       " {'id': 'd0c80415-6282-4bdd-815f-0e02109a0d51',\n",
       "  'source_id': 'https://www.wikidata.org/entity/Q112184776',\n",
       "  'name': 'portrait',\n",
       "  'parent_id': None},\n",
       " {'id': '94296429-ff6d-4698-9f31-c0357933342c',\n",
       "  'source_id': 'https://www.wikidata.org/entity/Q112184776',\n",
       "  'name': 'aerial photograph',\n",
       "  'parent_id': None},\n",
       " {'id': '23bdcfda-c7f8-416f-9491-81e6521a9c81',\n",
       "  'source_id': 'https://www.wikidata.org/entity/Q112184776',\n",
       "  'name': 'interior view',\n",
       "  'parent_id': None},\n",
       " {'id': 'f5b135da-0140-407b-b262-0eff3deef1b8',\n",
       "  'source_id': 'https://www.wikidata.org/entity/Q112184776',\n",
       "  'name': 'Built Environment',\n",
       "  'parent_id': None},\n",
       " {'id': '12bae2dc-b10b-4324-b66f-b57d8361dd96',\n",
       "  'source_id': 'https://www.wikidata.org/entity/Q112184776',\n",
       "  'name': 'industrial structure',\n",
       "  'parent_id': None},\n",
       " {'id': '411a0713-db2a-48bc-9f5c-99e82f8a521b',\n",
       "  'source_id': 'https://www.wikidata.org/entity/Q112184776',\n",
       "  'name': 'agricultural land',\n",
       "  'parent_id': None},\n",
       " {'id': 'dfa4b59e-6e3b-4a9b-a99c-39e4c9d37a53',\n",
       "  'source_id': 'https://www.wikidata.org/entity/Q112184776',\n",
       "  'name': 'natural landscape',\n",
       "  'parent_id': None},\n",
       " {'id': '9bc23603-72aa-4eb5-8258-7c43f854fd3a',\n",
       "  'source_id': 'https://www.wikidata.org/entity/Q112184776',\n",
       "  'name': 'wedding',\n",
       "  'parent_id': 'fd6238ce-2203-4bca-8dd4-5286a5db5002'},\n",
       " {'id': 'b9fd50ec-acc9-42a6-b65f-f2109bbe81e0',\n",
       "  'source_id': 'https://www.wikidata.org/entity/Q112184776',\n",
       "  'name': 'performance or concert',\n",
       "  'parent_id': 'fd6238ce-2203-4bca-8dd4-5286a5db5002'},\n",
       " {'id': '78b6bee1-4b62-4eb0-ac3d-d120b373de7a',\n",
       "  'source_id': 'https://www.wikidata.org/entity/Q112184776',\n",
       "  'name': 'dancing people',\n",
       "  'parent_id': 'fd6238ce-2203-4bca-8dd4-5286a5db5002'},\n",
       " {'id': '2e1dda4f-8110-4f7b-afb3-e35360b437fa',\n",
       "  'source_id': 'https://www.wikidata.org/entity/Q112184776',\n",
       "  'name': 'funeral',\n",
       "  'parent_id': 'fd6238ce-2203-4bca-8dd4-5286a5db5002'},\n",
       " {'id': 'b3076ac8-21d2-4675-849c-dbfff30c6b49',\n",
       "  'source_id': 'https://www.wikidata.org/entity/Q112184776',\n",
       "  'name': 'traffic accident',\n",
       "  'parent_id': 'fd6238ce-2203-4bca-8dd4-5286a5db5002'},\n",
       " {'id': '6ebddf62-f0c2-4a74-80fa-590fb108c31f',\n",
       "  'source_id': 'https://www.wikidata.org/entity/Q112184776',\n",
       "  'name': 'fire',\n",
       "  'parent_id': 'fd6238ce-2203-4bca-8dd4-5286a5db5002'},\n",
       " {'id': 'a133f85c-1fb3-4dc6-a2da-7e7e8c64d69a',\n",
       "  'source_id': 'https://www.wikidata.org/entity/Q112184776',\n",
       "  'name': 'armed forces or police',\n",
       "  'parent_id': 'fd6238ce-2203-4bca-8dd4-5286a5db5002'},\n",
       " {'id': 'cfb70330-ad89-4dd8-8d5c-14b1985e0926',\n",
       "  'source_id': 'https://www.wikidata.org/entity/Q112184776',\n",
       "  'name': 'procession',\n",
       "  'parent_id': 'fd6238ce-2203-4bca-8dd4-5286a5db5002'},\n",
       " {'id': '312b06ee-7461-4e61-8588-db80fb2705f4',\n",
       "  'source_id': 'https://www.wikidata.org/entity/Q112184776',\n",
       "  'name': 'marketplace',\n",
       "  'parent_id': 'fd6238ce-2203-4bca-8dd4-5286a5db5002'},\n",
       " {'id': '2d5b101b-afc3-40e8-88ec-93fbfb6957c7',\n",
       "  'source_id': 'https://www.wikidata.org/entity/Q112184776',\n",
       "  'name': 'hunting scene',\n",
       "  'parent_id': 'fd6238ce-2203-4bca-8dd4-5286a5db5002'},\n",
       " {'id': '8d7eb7a9-2e4a-4a64-8d16-13b25af7298c',\n",
       "  'source_id': 'https://www.wikidata.org/entity/Q112184776',\n",
       "  'name': 'fishing',\n",
       "  'parent_id': 'fd6238ce-2203-4bca-8dd4-5286a5db5002'},\n",
       " {'id': '3dba09d9-fc0e-4f0f-99fa-9dec8a2ee558',\n",
       "  'source_id': 'https://www.wikidata.org/entity/Q112184776',\n",
       "  'name': 'studio portrait',\n",
       "  'parent_id': 'd0c80415-6282-4bdd-815f-0e02109a0d51'},\n",
       " {'id': '2356afbe-59b6-4750-8432-54b6758a38dd',\n",
       "  'source_id': 'https://www.wikidata.org/entity/Q112184776',\n",
       "  'name': 'double portrait',\n",
       "  'parent_id': 'd0c80415-6282-4bdd-815f-0e02109a0d51'},\n",
       " {'id': 'ad590892-be5a-4eb0-82af-a5d352813496',\n",
       "  'source_id': 'https://www.wikidata.org/entity/Q112184776',\n",
       "  'name': 'group portrait',\n",
       "  'parent_id': 'd0c80415-6282-4bdd-815f-0e02109a0d51'},\n",
       " {'id': '9761ccda-5595-42f9-8376-48fc353d00ca',\n",
       "  'source_id': 'https://www.wikidata.org/entity/Q112184776',\n",
       "  'name': 'classroom (interior)',\n",
       "  'parent_id': '23bdcfda-c7f8-416f-9491-81e6521a9c81'},\n",
       " {'id': '37d16499-ffef-41e9-b10b-b1260fd7dc1f',\n",
       "  'source_id': 'https://www.wikidata.org/entity/Q112184776',\n",
       "  'name': 'factory (interior)',\n",
       "  'parent_id': '23bdcfda-c7f8-416f-9491-81e6521a9c81'},\n",
       " {'id': '49f5fbd9-ea58-40ff-a024-eb5283beb012',\n",
       "  'source_id': 'https://www.wikidata.org/entity/Q112184776',\n",
       "  'name': 'religious structure (interior)',\n",
       "  'parent_id': '23bdcfda-c7f8-416f-9491-81e6521a9c81'},\n",
       " {'id': '6bf24db8-4736-4f34-a34f-597c96f629b9',\n",
       "  'source_id': 'https://www.wikidata.org/entity/Q112184776',\n",
       "  'name': 'healthcare facility (interior)',\n",
       "  'parent_id': '23bdcfda-c7f8-416f-9491-81e6521a9c81'},\n",
       " {'id': 'ee158e14-89ed-4368-92ab-a8644a0a68f6',\n",
       "  'source_id': 'https://www.wikidata.org/entity/Q112184776',\n",
       "  'name': 'road',\n",
       "  'parent_id': 'f5b135da-0140-407b-b262-0eff3deef1b8'},\n",
       " {'id': '567b8513-6b13-4357-8598-397314fe8f6c',\n",
       "  'source_id': 'https://www.wikidata.org/entity/Q112184776',\n",
       "  'name': 'square (open space)',\n",
       "  'parent_id': 'f5b135da-0140-407b-b262-0eff3deef1b8'},\n",
       " {'id': '8e0041ed-1e24-491e-90e1-028e94327dc5',\n",
       "  'source_id': 'https://www.wikidata.org/entity/Q112184776',\n",
       "  'name': 'bridge',\n",
       "  'parent_id': 'f5b135da-0140-407b-b262-0eff3deef1b8'},\n",
       " {'id': '988408c9-1a92-44d1-975a-1e5fbfac5c45',\n",
       "  'source_id': 'https://www.wikidata.org/entity/Q112184776',\n",
       "  'name': 'park (recreation area)',\n",
       "  'parent_id': 'f5b135da-0140-407b-b262-0eff3deef1b8'},\n",
       " {'id': '157a1376-9114-4325-ab1e-b5703a3775f1',\n",
       "  'source_id': 'https://www.wikidata.org/entity/Q112184776',\n",
       "  'name': 'burial ground',\n",
       "  'parent_id': 'f5b135da-0140-407b-b262-0eff3deef1b8'},\n",
       " {'id': '885b9355-789d-44f0-9381-6f883e9bb2c3',\n",
       "  'source_id': 'https://www.wikidata.org/entity/Q112184776',\n",
       "  'name': 'swimming pool',\n",
       "  'parent_id': 'f5b135da-0140-407b-b262-0eff3deef1b8'},\n",
       " {'id': '0fa55b46-ecc0-4314-8cbf-1ef84cb66265',\n",
       "  'source_id': 'https://www.wikidata.org/entity/Q112184776',\n",
       "  'name': 'sports field',\n",
       "  'parent_id': 'f5b135da-0140-407b-b262-0eff3deef1b8'},\n",
       " {'id': '0ff25ced-9d39-4529-8e4c-2efc0753c5a1',\n",
       "  'source_id': 'https://www.wikidata.org/entity/Q112184776',\n",
       "  'name': 'tennis court',\n",
       "  'parent_id': '0fa55b46-ecc0-4314-8cbf-1ef84cb66265'},\n",
       " {'id': 'e6771856-46b0-406d-86c1-8de18195962d',\n",
       "  'source_id': 'https://www.wikidata.org/entity/Q112184776',\n",
       "  'name': 'soccer field',\n",
       "  'parent_id': '0fa55b46-ecc0-4314-8cbf-1ef84cb66265'},\n",
       " {'id': '63a31ed5-c9dc-47a9-8ca7-51d9141300d3',\n",
       "  'source_id': 'https://www.wikidata.org/entity/Q112184776',\n",
       "  'name': 'military base',\n",
       "  'parent_id': 'f5b135da-0140-407b-b262-0eff3deef1b8'},\n",
       " {'id': 'e8e51402-a44c-4095-afed-ec7757783747',\n",
       "  'source_id': 'https://www.wikidata.org/entity/Q112184776',\n",
       "  'name': 'fort',\n",
       "  'parent_id': '63a31ed5-c9dc-47a9-8ca7-51d9141300d3'},\n",
       " {'id': '5c1ffe2d-96e9-4e58-b659-45e974b36bf3',\n",
       "  'source_id': 'https://www.wikidata.org/entity/Q112184776',\n",
       "  'name': 'military field base',\n",
       "  'parent_id': '63a31ed5-c9dc-47a9-8ca7-51d9141300d3'},\n",
       " {'id': '71096f24-1c31-4526-b8c5-b04c5aeaf8b8',\n",
       "  'source_id': 'https://www.wikidata.org/entity/Q112184776',\n",
       "  'name': 'religious structure',\n",
       "  'parent_id': 'f5b135da-0140-407b-b262-0eff3deef1b8'},\n",
       " {'id': 'c02bff6b-df28-4fc1-b857-05ee1d738fc0',\n",
       "  'source_id': 'https://www.wikidata.org/entity/Q112184776',\n",
       "  'name': 'mosque',\n",
       "  'parent_id': '71096f24-1c31-4526-b8c5-b04c5aeaf8b8'},\n",
       " {'id': 'f691c5fa-005c-4f6e-a3b2-270a8009149f',\n",
       "  'source_id': 'https://www.wikidata.org/entity/Q112184776',\n",
       "  'name': 'church',\n",
       "  'parent_id': '71096f24-1c31-4526-b8c5-b04c5aeaf8b8'},\n",
       " {'id': '2819cb84-6e3b-4173-b55e-789e1c2aa742',\n",
       "  'source_id': 'https://www.wikidata.org/entity/Q112184776',\n",
       "  'name': 'temple',\n",
       "  'parent_id': '71096f24-1c31-4526-b8c5-b04c5aeaf8b8'},\n",
       " {'id': '5937f131-b1e9-4831-955a-9282e6fd13ba',\n",
       "  'source_id': 'https://www.wikidata.org/entity/Q112184776',\n",
       "  'name': 'temple reliefs',\n",
       "  'parent_id': '71096f24-1c31-4526-b8c5-b04c5aeaf8b8'},\n",
       " {'id': '2a79d524-41a3-4e77-852b-2f6efc10631b',\n",
       "  'source_id': 'https://www.wikidata.org/entity/Q112184776',\n",
       "  'name': 'building',\n",
       "  'parent_id': 'f5b135da-0140-407b-b262-0eff3deef1b8'},\n",
       " {'id': '844c6507-bcf8-4f44-9c16-ee70a2999d51',\n",
       "  'source_id': 'https://www.wikidata.org/entity/Q112184776',\n",
       "  'name': 'school building',\n",
       "  'parent_id': '2a79d524-41a3-4e77-852b-2f6efc10631b'},\n",
       " {'id': '47da0690-f99d-4821-ae49-0b124c3a89ce',\n",
       "  'source_id': 'https://www.wikidata.org/entity/Q112184776',\n",
       "  'name': 'store',\n",
       "  'parent_id': '2a79d524-41a3-4e77-852b-2f6efc10631b'},\n",
       " {'id': 'b5c6ea3f-782a-458e-b116-2d926e99d008',\n",
       "  'source_id': 'https://www.wikidata.org/entity/Q112184776',\n",
       "  'name': 'healthcare facility',\n",
       "  'parent_id': '2a79d524-41a3-4e77-852b-2f6efc10631b'},\n",
       " {'id': '7b7715dc-f79a-4a82-995e-5a1a1a8d4f0f',\n",
       "  'source_id': 'https://www.wikidata.org/entity/Q112184776',\n",
       "  'name': 'stilt house',\n",
       "  'parent_id': '2a79d524-41a3-4e77-852b-2f6efc10631b'},\n",
       " {'id': '8ce01f32-0b08-477d-b031-48c5312d6c44',\n",
       "  'source_id': 'https://www.wikidata.org/entity/Q112184776',\n",
       "  'name': 'palace',\n",
       "  'parent_id': '2a79d524-41a3-4e77-852b-2f6efc10631b'},\n",
       " {'id': '0ebc5348-f0bd-4bc7-a82d-261aabc08484',\n",
       "  'source_id': 'https://www.wikidata.org/entity/Q112184776',\n",
       "  'name': 'ruin',\n",
       "  'parent_id': '2a79d524-41a3-4e77-852b-2f6efc10631b'},\n",
       " {'id': '59d821b6-504b-4a24-bb90-e36ebf0f7d9a',\n",
       "  'source_id': 'https://www.wikidata.org/entity/Q112184776',\n",
       "  'name': 'harbor or dockyard',\n",
       "  'parent_id': '12bae2dc-b10b-4324-b66f-b57d8361dd96'},\n",
       " {'id': '6319d3e8-2c6d-49ed-8a50-4eeac90a8c95',\n",
       "  'source_id': 'https://www.wikidata.org/entity/Q112184776',\n",
       "  'name': 'airport',\n",
       "  'parent_id': '12bae2dc-b10b-4324-b66f-b57d8361dd96'},\n",
       " {'id': '585fe103-ba89-4222-9803-9f94f2afb5c5',\n",
       "  'source_id': 'https://www.wikidata.org/entity/Q112184776',\n",
       "  'name': 'railroad',\n",
       "  'parent_id': '12bae2dc-b10b-4324-b66f-b57d8361dd96'},\n",
       " {'id': 'd9ad840a-4fd6-42c1-b6ff-2967a92dbe94',\n",
       "  'source_id': 'https://www.wikidata.org/entity/Q112184776',\n",
       "  'name': 'industrial complex',\n",
       "  'parent_id': '12bae2dc-b10b-4324-b66f-b57d8361dd96'},\n",
       " {'id': '0130f6e2-90ed-42dd-a084-a044147f7d07',\n",
       "  'source_id': 'https://www.wikidata.org/entity/Q112184776',\n",
       "  'name': 'mine (industrial complex)',\n",
       "  'parent_id': '12bae2dc-b10b-4324-b66f-b57d8361dd96'},\n",
       " {'id': 'aeb6ed1d-66a2-4193-9a60-042b4fde79eb',\n",
       "  'source_id': 'https://www.wikidata.org/entity/Q112184776',\n",
       "  'name': 'husbandry',\n",
       "  'parent_id': '411a0713-db2a-48bc-9f5c-99e82f8a521b'},\n",
       " {'id': 'fbf96d81-7a6f-4994-9a35-3e801b1059e0',\n",
       "  'source_id': 'https://www.wikidata.org/entity/Q112184776',\n",
       "  'name': 'plantation',\n",
       "  'parent_id': '411a0713-db2a-48bc-9f5c-99e82f8a521b'},\n",
       " {'id': '21654563-68b0-4b23-babb-2526c1a05654',\n",
       "  'source_id': 'https://www.wikidata.org/entity/Q112184776',\n",
       "  'name': 'rice field',\n",
       "  'parent_id': '411a0713-db2a-48bc-9f5c-99e82f8a521b'},\n",
       " {'id': '916841ac-8bf4-4b7b-9027-e89fbe44cfc5',\n",
       "  'source_id': 'https://www.wikidata.org/entity/Q112184776',\n",
       "  'name': 'mountain',\n",
       "  'parent_id': 'dfa4b59e-6e3b-4a9b-a99c-39e4c9d37a53'},\n",
       " {'id': 'd613639a-ff46-48cc-bbde-5d67f6e7cc80',\n",
       "  'source_id': 'https://www.wikidata.org/entity/Q112184776',\n",
       "  'name': 'rock (landform)',\n",
       "  'parent_id': 'dfa4b59e-6e3b-4a9b-a99c-39e4c9d37a53'},\n",
       " {'id': '9c707c4c-302d-4aa2-8324-0824d0c1b2bf',\n",
       "  'source_id': 'https://www.wikidata.org/entity/Q112184776',\n",
       "  'name': 'cave',\n",
       "  'parent_id': 'dfa4b59e-6e3b-4a9b-a99c-39e4c9d37a53'},\n",
       " {'id': '4ea6d2b5-a04f-46af-bd03-d9761ef76ea1',\n",
       "  'source_id': 'https://www.wikidata.org/entity/Q112184776',\n",
       "  'name': 'shore (landform)',\n",
       "  'parent_id': 'dfa4b59e-6e3b-4a9b-a99c-39e4c9d37a53'},\n",
       " {'id': '7a2780dd-44bb-47bd-becb-d571990e5327',\n",
       "  'source_id': 'https://www.wikidata.org/entity/Q112184776',\n",
       "  'name': 'volcano',\n",
       "  'parent_id': 'dfa4b59e-6e3b-4a9b-a99c-39e4c9d37a53'},\n",
       " {'id': 'a8b05a3d-1437-4b76-b201-92d99ffc1568',\n",
       "  'source_id': 'https://www.wikidata.org/entity/Q112184776',\n",
       "  'name': 'volcano eruption',\n",
       "  'parent_id': 'dfa4b59e-6e3b-4a9b-a99c-39e4c9d37a53'},\n",
       " {'id': '31364ddd-62a1-4099-8c98-e24c957b518e',\n",
       "  'source_id': 'https://www.wikidata.org/entity/Q112184776',\n",
       "  'name': 'wood (plant communities)',\n",
       "  'parent_id': 'dfa4b59e-6e3b-4a9b-a99c-39e4c9d37a53'},\n",
       " {'id': 'c5f461de-5f8b-4a2d-991f-200adff55e79',\n",
       "  'source_id': 'https://www.wikidata.org/entity/Q112184776',\n",
       "  'name': 'grassland (plant communities)',\n",
       "  'parent_id': 'dfa4b59e-6e3b-4a9b-a99c-39e4c9d37a53'},\n",
       " {'id': 'cf74b78d-67fb-43a5-809f-4524a69efa0e',\n",
       "  'source_id': 'https://www.wikidata.org/entity/Q112184776',\n",
       "  'name': 'valley (landforms)',\n",
       "  'parent_id': 'dfa4b59e-6e3b-4a9b-a99c-39e4c9d37a53'},\n",
       " {'id': 'c38117b0-7580-4c3f-8aa2-2dee90d0964d',\n",
       "  'source_id': 'https://www.wikidata.org/entity/Q112184776',\n",
       "  'name': 'bodies of water (natural)',\n",
       "  'parent_id': 'dfa4b59e-6e3b-4a9b-a99c-39e4c9d37a53'},\n",
       " {'id': '3a2f6fde-b5a1-402a-a3a0-4c4ee3aa0e11',\n",
       "  'source_id': 'https://www.wikidata.org/entity/Q112184776',\n",
       "  'name': 'sea',\n",
       "  'parent_id': 'c38117b0-7580-4c3f-8aa2-2dee90d0964d'},\n",
       " {'id': '201a4aef-30d6-4f0a-99aa-9fa182d1b6de',\n",
       "  'source_id': 'https://www.wikidata.org/entity/Q112184776',\n",
       "  'name': 'bay (bodies of water)',\n",
       "  'parent_id': 'c38117b0-7580-4c3f-8aa2-2dee90d0964d'},\n",
       " {'id': 'f010c82a-7685-4bf6-bef3-4252f1952dc4',\n",
       "  'source_id': 'https://www.wikidata.org/entity/Q112184776',\n",
       "  'name': 'river',\n",
       "  'parent_id': 'c38117b0-7580-4c3f-8aa2-2dee90d0964d'},\n",
       " {'id': 'cbf82aae-bd90-4541-b1aa-274a4d085662',\n",
       "  'source_id': 'https://www.wikidata.org/entity/Q112184776',\n",
       "  'name': 'canal',\n",
       "  'parent_id': 'c38117b0-7580-4c3f-8aa2-2dee90d0964d'},\n",
       " {'id': '9342a6d0-21b1-4f78-b845-73025a4c37dc',\n",
       "  'source_id': 'https://www.wikidata.org/entity/Q112184776',\n",
       "  'name': 'waterfall (natural bodies of water)',\n",
       "  'parent_id': 'c38117b0-7580-4c3f-8aa2-2dee90d0964d'},\n",
       " {'id': 'cf151663-deac-4fba-8fae-115368ca8519',\n",
       "  'source_id': 'https://www.wikidata.org/entity/Q112184776',\n",
       "  'name': 'flood',\n",
       "  'parent_id': 'c38117b0-7580-4c3f-8aa2-2dee90d0964d'}]"
      ]
     },
     "execution_count": 122,
     "metadata": {},
     "output_type": "execute_result"
    }
   ],
   "source": [
    "j[\"image_annotations\"]\n",
    "# anns[~anns.valid]\n",
    "\n",
    "j[\"images\"]\n",
    "j[\"image_labels\"]"
   ]
  },
  {
   "cell_type": "markdown",
   "id": "540a2322-c4af-41fc-b850-2c344c219f2d",
   "metadata": {},
   "source": [
    "## export contents\n",
    "\n",
    "- info: basic info about export\n",
    "- licenses: useless\n",
    "- object_labels: empty\n",
    "- image_labels: the \"vocabulary\"; each entry containing a label, an ID, a source (the NMVW thesaurus) and a parent ID \n",
    "- images: image record, incl handle URL  \n",
    "- image_annotations: links between image_labels records and images records\n",
    "- object_annotations: empty"
   ]
  },
  {
   "cell_type": "code",
   "execution_count": 4,
   "id": "23e44423-7672-4d77-8303-90b4ad478335",
   "metadata": {},
   "outputs": [],
   "source": [
    "voc = pd.DataFrame.from_records(j[\"image_labels\"])#.set_index(\"id\")\n",
    "\n",
    "anns = pd.DataFrame.from_records(j[\"image_annotations\"])\n",
    "\n",
    "\n",
    "voc2 = pd.merge(voc, voc[[\"id\", \"name\"]],\n",
    "         left_on=\"parent_id\",\n",
    "         right_on=\"id\",\n",
    "        suffixes=(\"\", \"_parent\")).set_index(\"id\")\n",
    "\n",
    "df = pd.merge(anns, voc2[[\"name\", \"parent_id\", \"name_parent\"]],\n",
    "         left_on=\"image_label_id\",\n",
    "         right_on=\"id\")\n",
    "\n",
    "# plt.plot(\n",
    "#     list(df.name.\n",
    "#      value_counts().\n",
    "#      value_counts().\n",
    "#      sort_index().values),\n",
    "#     \".\")\n",
    "\n",
    "# plt.plot(\n",
    "#     list(df.name.value_counts().sort_index().index),\n",
    "#     list(df.name.value_counts().sort_index().values),\n",
    "#     \".\")\n"
   ]
  },
  {
   "cell_type": "code",
   "execution_count": 110,
   "id": "ef7ca98d-6632-4c82-a05a-89faf6fcc9dc",
   "metadata": {},
   "outputs": [
    {
     "data": {
      "text/html": [
       "<div>\n",
       "<style scoped>\n",
       "    .dataframe tbody tr th:only-of-type {\n",
       "        vertical-align: middle;\n",
       "    }\n",
       "\n",
       "    .dataframe tbody tr th {\n",
       "        vertical-align: top;\n",
       "    }\n",
       "\n",
       "    .dataframe thead th {\n",
       "        text-align: right;\n",
       "    }\n",
       "</style>\n",
       "<table border=\"1\" class=\"dataframe\">\n",
       "  <thead>\n",
       "    <tr style=\"text-align: right;\">\n",
       "      <th></th>\n",
       "      <th>id</th>\n",
       "      <th>image_id</th>\n",
       "      <th>image_label_id</th>\n",
       "      <th>valid</th>\n",
       "      <th>name</th>\n",
       "      <th>parent_id</th>\n",
       "      <th>name_parent</th>\n",
       "    </tr>\n",
       "  </thead>\n",
       "  <tbody>\n",
       "    <tr>\n",
       "      <th>0</th>\n",
       "      <td>73370d54-420d-4a9c-95b7-1584670c4fb2</td>\n",
       "      <td>afe7fd79-59c3-449b-816a-88cde6a48406</td>\n",
       "      <td>ad590892-be5a-4eb0-82af-a5d352813496</td>\n",
       "      <td>True</td>\n",
       "      <td>group portrait</td>\n",
       "      <td>d0c80415-6282-4bdd-815f-0e02109a0d51</td>\n",
       "      <td>portrait</td>\n",
       "    </tr>\n",
       "    <tr>\n",
       "      <th>1</th>\n",
       "      <td>f6f37e71-7316-4ded-8cb2-c7295ba5e0fe</td>\n",
       "      <td>afe7fd79-59c3-449b-816a-88cde6a48406</td>\n",
       "      <td>ad590892-be5a-4eb0-82af-a5d352813496</td>\n",
       "      <td>True</td>\n",
       "      <td>group portrait</td>\n",
       "      <td>d0c80415-6282-4bdd-815f-0e02109a0d51</td>\n",
       "      <td>portrait</td>\n",
       "    </tr>\n",
       "    <tr>\n",
       "      <th>2</th>\n",
       "      <td>9bc69e44-e308-47d4-9366-3e4d3f703496</td>\n",
       "      <td>4482ccb8-406a-47c5-ba60-d028cf904b5f</td>\n",
       "      <td>ad590892-be5a-4eb0-82af-a5d352813496</td>\n",
       "      <td>True</td>\n",
       "      <td>group portrait</td>\n",
       "      <td>d0c80415-6282-4bdd-815f-0e02109a0d51</td>\n",
       "      <td>portrait</td>\n",
       "    </tr>\n",
       "    <tr>\n",
       "      <th>3</th>\n",
       "      <td>3e683032-9888-4209-9f95-faf507becdfc</td>\n",
       "      <td>4482ccb8-406a-47c5-ba60-d028cf904b5f</td>\n",
       "      <td>ad590892-be5a-4eb0-82af-a5d352813496</td>\n",
       "      <td>True</td>\n",
       "      <td>group portrait</td>\n",
       "      <td>d0c80415-6282-4bdd-815f-0e02109a0d51</td>\n",
       "      <td>portrait</td>\n",
       "    </tr>\n",
       "    <tr>\n",
       "      <th>4</th>\n",
       "      <td>2d0b4cfc-a4df-4488-b1ac-3844ea9aa56f</td>\n",
       "      <td>764d53a3-1467-4fe7-9308-779e172a0f6e</td>\n",
       "      <td>ad590892-be5a-4eb0-82af-a5d352813496</td>\n",
       "      <td>True</td>\n",
       "      <td>group portrait</td>\n",
       "      <td>d0c80415-6282-4bdd-815f-0e02109a0d51</td>\n",
       "      <td>portrait</td>\n",
       "    </tr>\n",
       "    <tr>\n",
       "      <th>...</th>\n",
       "      <td>...</td>\n",
       "      <td>...</td>\n",
       "      <td>...</td>\n",
       "      <td>...</td>\n",
       "      <td>...</td>\n",
       "      <td>...</td>\n",
       "      <td>...</td>\n",
       "    </tr>\n",
       "    <tr>\n",
       "      <th>9699</th>\n",
       "      <td>840da9f2-de50-463c-9c0c-7321b3199dc6</td>\n",
       "      <td>f8e96ee0-3c46-48d3-9b53-40f158b9c893</td>\n",
       "      <td>3dba09d9-fc0e-4f0f-99fa-9dec8a2ee558</td>\n",
       "      <td>True</td>\n",
       "      <td>studio portrait</td>\n",
       "      <td>d0c80415-6282-4bdd-815f-0e02109a0d51</td>\n",
       "      <td>portrait</td>\n",
       "    </tr>\n",
       "    <tr>\n",
       "      <th>9700</th>\n",
       "      <td>1f2cd922-6c17-4d80-a8d7-587299641f04</td>\n",
       "      <td>f8e96ee0-3c46-48d3-9b53-40f158b9c893</td>\n",
       "      <td>3dba09d9-fc0e-4f0f-99fa-9dec8a2ee558</td>\n",
       "      <td>True</td>\n",
       "      <td>studio portrait</td>\n",
       "      <td>d0c80415-6282-4bdd-815f-0e02109a0d51</td>\n",
       "      <td>portrait</td>\n",
       "    </tr>\n",
       "    <tr>\n",
       "      <th>9701</th>\n",
       "      <td>b43132db-65d0-42c0-a6c1-c5b56710d691</td>\n",
       "      <td>6d0c8e7d-5330-42cf-be53-bba0331d6899</td>\n",
       "      <td>a133f85c-1fb3-4dc6-a2da-7e7e8c64d69a</td>\n",
       "      <td>True</td>\n",
       "      <td>armed forces or police</td>\n",
       "      <td>fd6238ce-2203-4bca-8dd4-5286a5db5002</td>\n",
       "      <td>event</td>\n",
       "    </tr>\n",
       "    <tr>\n",
       "      <th>9702</th>\n",
       "      <td>84efb452-41c3-4a43-bd44-6a0104af3b93</td>\n",
       "      <td>6d0c8e7d-5330-42cf-be53-bba0331d6899</td>\n",
       "      <td>ad590892-be5a-4eb0-82af-a5d352813496</td>\n",
       "      <td>True</td>\n",
       "      <td>group portrait</td>\n",
       "      <td>d0c80415-6282-4bdd-815f-0e02109a0d51</td>\n",
       "      <td>portrait</td>\n",
       "    </tr>\n",
       "    <tr>\n",
       "      <th>9703</th>\n",
       "      <td>e1f734ce-eb7e-4cc4-9d4b-4ff7b989146e</td>\n",
       "      <td>6d0c8e7d-5330-42cf-be53-bba0331d6899</td>\n",
       "      <td>ad590892-be5a-4eb0-82af-a5d352813496</td>\n",
       "      <td>True</td>\n",
       "      <td>group portrait</td>\n",
       "      <td>d0c80415-6282-4bdd-815f-0e02109a0d51</td>\n",
       "      <td>portrait</td>\n",
       "    </tr>\n",
       "  </tbody>\n",
       "</table>\n",
       "<p>9704 rows × 7 columns</p>\n",
       "</div>"
      ],
      "text/plain": [
       "                                        id  \\\n",
       "0     73370d54-420d-4a9c-95b7-1584670c4fb2   \n",
       "1     f6f37e71-7316-4ded-8cb2-c7295ba5e0fe   \n",
       "2     9bc69e44-e308-47d4-9366-3e4d3f703496   \n",
       "3     3e683032-9888-4209-9f95-faf507becdfc   \n",
       "4     2d0b4cfc-a4df-4488-b1ac-3844ea9aa56f   \n",
       "...                                    ...   \n",
       "9699  840da9f2-de50-463c-9c0c-7321b3199dc6   \n",
       "9700  1f2cd922-6c17-4d80-a8d7-587299641f04   \n",
       "9701  b43132db-65d0-42c0-a6c1-c5b56710d691   \n",
       "9702  84efb452-41c3-4a43-bd44-6a0104af3b93   \n",
       "9703  e1f734ce-eb7e-4cc4-9d4b-4ff7b989146e   \n",
       "\n",
       "                                  image_id  \\\n",
       "0     afe7fd79-59c3-449b-816a-88cde6a48406   \n",
       "1     afe7fd79-59c3-449b-816a-88cde6a48406   \n",
       "2     4482ccb8-406a-47c5-ba60-d028cf904b5f   \n",
       "3     4482ccb8-406a-47c5-ba60-d028cf904b5f   \n",
       "4     764d53a3-1467-4fe7-9308-779e172a0f6e   \n",
       "...                                    ...   \n",
       "9699  f8e96ee0-3c46-48d3-9b53-40f158b9c893   \n",
       "9700  f8e96ee0-3c46-48d3-9b53-40f158b9c893   \n",
       "9701  6d0c8e7d-5330-42cf-be53-bba0331d6899   \n",
       "9702  6d0c8e7d-5330-42cf-be53-bba0331d6899   \n",
       "9703  6d0c8e7d-5330-42cf-be53-bba0331d6899   \n",
       "\n",
       "                            image_label_id  valid                    name  \\\n",
       "0     ad590892-be5a-4eb0-82af-a5d352813496   True          group portrait   \n",
       "1     ad590892-be5a-4eb0-82af-a5d352813496   True          group portrait   \n",
       "2     ad590892-be5a-4eb0-82af-a5d352813496   True          group portrait   \n",
       "3     ad590892-be5a-4eb0-82af-a5d352813496   True          group portrait   \n",
       "4     ad590892-be5a-4eb0-82af-a5d352813496   True          group portrait   \n",
       "...                                    ...    ...                     ...   \n",
       "9699  3dba09d9-fc0e-4f0f-99fa-9dec8a2ee558   True         studio portrait   \n",
       "9700  3dba09d9-fc0e-4f0f-99fa-9dec8a2ee558   True         studio portrait   \n",
       "9701  a133f85c-1fb3-4dc6-a2da-7e7e8c64d69a   True  armed forces or police   \n",
       "9702  ad590892-be5a-4eb0-82af-a5d352813496   True          group portrait   \n",
       "9703  ad590892-be5a-4eb0-82af-a5d352813496   True          group portrait   \n",
       "\n",
       "                                 parent_id name_parent  \n",
       "0     d0c80415-6282-4bdd-815f-0e02109a0d51    portrait  \n",
       "1     d0c80415-6282-4bdd-815f-0e02109a0d51    portrait  \n",
       "2     d0c80415-6282-4bdd-815f-0e02109a0d51    portrait  \n",
       "3     d0c80415-6282-4bdd-815f-0e02109a0d51    portrait  \n",
       "4     d0c80415-6282-4bdd-815f-0e02109a0d51    portrait  \n",
       "...                                    ...         ...  \n",
       "9699  d0c80415-6282-4bdd-815f-0e02109a0d51    portrait  \n",
       "9700  d0c80415-6282-4bdd-815f-0e02109a0d51    portrait  \n",
       "9701  fd6238ce-2203-4bca-8dd4-5286a5db5002       event  \n",
       "9702  d0c80415-6282-4bdd-815f-0e02109a0d51    portrait  \n",
       "9703  d0c80415-6282-4bdd-815f-0e02109a0d51    portrait  \n",
       "\n",
       "[9704 rows x 7 columns]"
      ]
     },
     "execution_count": 110,
     "metadata": {},
     "output_type": "execute_result"
    }
   ],
   "source": [
    "df"
   ]
  },
  {
   "cell_type": "code",
   "execution_count": 5,
   "id": "749a5779-40c6-404a-ab31-8cb4035e90f2",
   "metadata": {},
   "outputs": [
    {
     "name": "stdout",
     "output_type": "stream",
     "text": [
      "number of images:\t 3799\n",
      "number of annotations:\t 9704\n"
     ]
    }
   ],
   "source": [
    "# basic stats\n",
    "\n",
    "print(f\"number of images:\\t {len(df.image_id.unique())}\")\n",
    "print(f\"number of annotations:\\t {len(df)}\")"
   ]
  },
  {
   "cell_type": "markdown",
   "id": "fb9590a8-703f-417f-adc4-f64f36bebe0b",
   "metadata": {},
   "source": [
    "---\n",
    "# pure label distributions"
   ]
  },
  {
   "cell_type": "code",
   "execution_count": 28,
   "id": "366849d1-588f-4f7d-92f6-6b6e53c1898c",
   "metadata": {},
   "outputs": [
    {
     "data": {
      "image/png": "[encoded data removed]",
      "text/plain": [
       "<Figure size 640x480 with 1 Axes>"
      ]
     },
     "metadata": {},
     "output_type": "display_data"
    }
   ],
   "source": [
    "label_counts = df.name.value_counts()\n",
    "plt.plot(\n",
    "    list(label_counts.values),\n",
    "    \".\")\n",
    "plt.axhline(50, c=\"red\", lw=0.5)\n",
    "# plt.annotate(\"frequency of 50\", xytext=(0, 50), xy=(0, 0), arrowprops=dict(facecolor=\"black\"))\n",
    "# plt.yticks([50], [\"50\"])\n",
    "\n",
    "for i in range(30):\n",
    "    cur = label_counts.index[i*2]\n",
    "    cur_y = label_counts.values[i*2]\n",
    "    plt.annotate(cur, xy=(i*2+0.1, cur_y+cur_y**0.5), rotation=45*(1-1/(i+1)), fontsize=6)#, xy=(i*2, cur_y), arrowprops=dict(facecolor='black', shrink=0.05, width=0.001, headwidth=0.1))"
   ]
  },
  {
   "cell_type": "code",
   "execution_count": 105,
   "id": "cc9e8d75-a8d6-479d-9884-b3560f0af750",
   "metadata": {},
   "outputs": [
    {
     "data": {
      "text/plain": [
       "['__add__',\n",
       " '__class__',\n",
       " '__class_getitem__',\n",
       " '__contains__',\n",
       " '__delattr__',\n",
       " '__dir__',\n",
       " '__doc__',\n",
       " '__eq__',\n",
       " '__format__',\n",
       " '__ge__',\n",
       " '__getattribute__',\n",
       " '__getitem__',\n",
       " '__getnewargs__',\n",
       " '__getstate__',\n",
       " '__gt__',\n",
       " '__hash__',\n",
       " '__init__',\n",
       " '__init_subclass__',\n",
       " '__iter__',\n",
       " '__le__',\n",
       " '__len__',\n",
       " '__lt__',\n",
       " '__mul__',\n",
       " '__ne__',\n",
       " '__new__',\n",
       " '__reduce__',\n",
       " '__reduce_ex__',\n",
       " '__repr__',\n",
       " '__rmul__',\n",
       " '__setattr__',\n",
       " '__sizeof__',\n",
       " '__str__',\n",
       " '__subclasshook__',\n",
       " 'count',\n",
       " 'index']"
      ]
     },
     "execution_count": 105,
     "metadata": {},
     "output_type": "execute_result"
    }
   ],
   "source": [
    "# len()/len(label_counts)\n",
    "\n",
    "label_counts[label_counts < 147].sum()"
   ]
  },
  {
   "cell_type": "markdown",
   "id": "9b7c4726-ba3a-48c9-8a17-0ab01646b795",
   "metadata": {},
   "source": [
    "---\n",
    "# labels per image"
   ]
  },
  {
   "cell_type": "code",
   "execution_count": 7,
   "id": "bc7058a2-4413-4d28-ab50-1743efb19e76",
   "metadata": {},
   "outputs": [
    {
     "data": {
      "image/png": "[encoded data removed]",
      "text/plain": [
       "<Figure size 640x480 with 1 Axes>"
      ]
     },
     "metadata": {},
     "output_type": "display_data"
    }
   ],
   "source": [
    "image_label_nums = df.image_id.value_counts().value_counts().sort_index()\n",
    "\n",
    "# 1609 images have 2 labels\n",
    "# 1058 images have 3 labels\n",
    "# etc\n",
    "\n",
    "plt.bar(list(image_label_nums.index),\n",
    "    list(image_label_nums.values),\n",
    "    0.5)\n",
    "\n",
    "avg = sum(i*v for i, v in enumerate(image_label_nums, 1))/image_label_nums.sum()\n",
    "plt.axvline(avg, c=\"r\")\n",
    "plt.annotate(f\"avg. number of labels per image ({avg:.2f})\", xy=(avg+0.1, 1400), fontsize=7)\n",
    "\n",
    "for i, v in enumerate(image_label_nums):\n",
    "    plt.annotate(f\"{v} image{'s' if v > 1 else ''} with {i+1} label{'s' if i > 0 else ''}\", \n",
    "                 xy=(i+1, v+(-10 if v > 1000 else 10)), \n",
    "                 rotation=90, fontsize=7, horizontalalignment=\"center\", \n",
    "                 verticalalignment=(\"top\" if v > 1000 else \"bottom\"))"
   ]
  },
  {
   "cell_type": "code",
   "execution_count": 71,
   "id": "7fa73460-0ad7-4639-affa-42f04cbc6a2a",
   "metadata": {},
   "outputs": [
    {
     "data": {
      "text/plain": [
       "count\n",
       "1     462\n",
       "2    1609\n",
       "3    1058\n",
       "4     518\n",
       "5     135\n",
       "6      16\n",
       "7       1\n",
       "Name: count, dtype: int64"
      ]
     },
     "execution_count": 71,
     "metadata": {},
     "output_type": "execute_result"
    }
   ],
   "source": [
    "image_label_nums[::-1].cumsum()/3799\n",
    "\n",
    "image_label_nums[image_label_nums.index > 5].sum()/3799\n",
    "\n",
    "image_label_nums"
   ]
  },
  {
   "cell_type": "code",
   "execution_count": null,
   "id": "b4fcd54d-b1bf-46ee-87f9-c4350f102ce4",
   "metadata": {},
   "outputs": [],
   "source": []
  },
  {
   "cell_type": "code",
   "execution_count": 87,
   "id": "1d0c3e0f-6b47-470e-86b8-270524698e36",
   "metadata": {},
   "outputs": [
    {
     "data": {
      "image/png": "[encoded data removed]",
      "text/plain": [
       "<Figure size 640x480 with 1 Axes>"
      ]
     },
     "metadata": {},
     "output_type": "display_data"
    }
   ],
   "source": [
    "label_variances = df.groupby(\"image_id\").name.apply(\n",
    "    lambda sub: len(sub.unique())/len(sub) if len(sub) > 1 else -0.5\n",
    ").value_counts().sort_index()\n",
    "\n",
    "# 1.0 => all assigned labels for an image is different\n",
    "# 0.5 => the number of total labels is 2 times the number of unique labels\n",
    "# x -> 0. => there are many labels but all of them are the same (practically only possible if len(sub) <= 1)\n",
    "\n",
    "plt.bar(list(label_variances.index), (list(label_variances.values)), width=0.05)\n",
    "\n",
    "# plt.hist(list(label_variances))\n",
    "\n",
    "plt.yscale(\"log\")"
   ]
  },
  {
   "cell_type": "code",
   "execution_count": 97,
   "id": "f48523bd-ddc6-4ce0-8273-feb0b267a298",
   "metadata": {},
   "outputs": [
    {
     "name": "stderr",
     "output_type": "stream",
     "text": [
      "100%|████████| 100000/100000 [00:02<00:00, 37895.44it/s]\n"
     ]
    },
    {
     "data": {
      "image/png": "[encoded data removed]",
      "text/plain": [
       "<Figure size 640x480 with 1 Axes>"
      ]
     },
     "metadata": {},
     "output_type": "display_data"
    }
   ],
   "source": [
    "def sample_frac():\n",
    "    n = np.random.randint(1, 7000)\n",
    "    return np.random.randint(1, n)/n if n > 1 else sample_frac()\n",
    "\n",
    "X = np.asarray([sample_frac() for i in tqdm(range(100000))])\n",
    "_=plt.hist(X, bins=50)"
   ]
  },
  {
   "cell_type": "code",
   "execution_count": 18,
   "id": "34b44838-1785-4b5a-8160-303cefd760d6",
   "metadata": {},
   "outputs": [
    {
     "data": {
      "text/plain": [
       "<Axes: >"
      ]
     },
     "execution_count": 18,
     "metadata": {},
     "output_type": "execute_result"
    },
    {
     "data": {
      "image/png": "[encoded data removed]",
      "text/plain": [
       "<Figure size 640x480 with 1 Axes>"
      ]
     },
     "metadata": {},
     "output_type": "display_data"
    }
   ],
   "source": [
    "from collections import Counter\n",
    "def entropy(ls):\n",
    "    ps = np.asarray(list(Counter(ls).values()))/len(ls)\n",
    "    if len(ps) <= 1:\n",
    "        return 0.0\n",
    "    return - (ps*np.log2(ps)).sum()/np.log2(len(ls))\n",
    "\n",
    "ents = df.groupby(\"image_id\").name.apply(entropy)\n",
    "\n",
    "ents.hist(bins=30)#histtype=\"step\")\n",
    "# label_variances.hist(histtype=\"step\")"
   ]
  },
  {
   "cell_type": "code",
   "execution_count": 57,
   "id": "25c57092-aac3-4d1e-8746-a145b9376213",
   "metadata": {},
   "outputs": [
    {
     "name": "stdout",
     "output_type": "stream",
     "text": [
      "73.00793441883202  % of labels are different (percent of the total possible number\n"
     ]
    }
   ],
   "source": [
    "print(\n",
    "    df.groupby(\"image_id\").name.apply(lambda sub: len(sub.unique())/len(sub)).mean()*100,\n",
    "    \" % of labels are different (percent of the total possible number)\"\n",
    ")"
   ]
  },
  {
   "cell_type": "code",
   "execution_count": 86,
   "id": "806751da-8722-4098-aa74-248fa4596917",
   "metadata": {},
   "outputs": [
    {
     "ename": "IndentationError",
     "evalue": "expected an indented block after 'for' statement on line 7 (1764354453.py, line 11)",
     "output_type": "error",
     "traceback": [
      "\u001b[0;36m  Cell \u001b[0;32mIn[86], line 11\u001b[0;36m\u001b[0m\n\u001b[0;31m    diff_nums = df.groupby(\"image_id\").name.apply(lambda sub: len(sub.unique()))\u001b[0m\n\u001b[0m    ^\u001b[0m\n\u001b[0;31mIndentationError\u001b[0m\u001b[0;31m:\u001b[0m expected an indented block after 'for' statement on line 7\n"
     ]
    }
   ],
   "source": [
    "df.groupby(\"image_id\").name.apply(lambda sub: (len(sub.unique()) == len(sub))\n",
    "                                             and (len(sub) > 1)\n",
    "                                             ).sum()/3799\n",
    "\n",
    "df.groupby(\"image_id\").name.apply(lambda sub: (len(sub) > 3) and (len(sub.unique()) == 3)).sum()\n",
    "\n",
    "# for i in image_label_nums.index:\n",
    "\n",
    "\n",
    "\n",
    "diff_nums = df.groupby(\"image_id\").name.apply(lambda sub: len(sub.unique()))"
   ]
  },
  {
   "cell_type": "markdown",
   "id": "af9a718c-4e99-496f-97f1-54f686bb0de3",
   "metadata": {},
   "source": [
    "---"
   ]
  },
  {
   "cell_type": "code",
   "execution_count": null,
   "id": "fdeb5d3f-f722-4167-a499-c25af097153d",
   "metadata": {},
   "outputs": [],
   "source": [
    "df.groupby(\"image_id\").name.apply(len).sort_values()"
   ]
  },
  {
   "cell_type": "code",
   "execution_count": null,
   "id": "c2469d54-1846-43e0-824a-27a1f48cec6a",
   "metadata": {
    "scrolled": true
   },
   "outputs": [],
   "source": [
    "lists = df.groupby(\"image_id\").name\n",
    "\n",
    "cooc = [[lists.apply(lambda ls: int(a in ls and b in ls)).sum() \n",
    "         for b in sorted(df.name.unique())] for a in tqdm(sorted(df.name.unique()))]"
   ]
  },
  {
   "cell_type": "code",
   "execution_count": null,
   "id": "6115ad17-fef3-49c6-be43-4fd2bb45d7a4",
   "metadata": {},
   "outputs": [],
   "source": [
    "names = sorted(df.name.unique())\n",
    "cooc = pd.DataFrame(np.zeros((len(names), len(names))), columns=names, index=names, dtype=int)\n",
    "\n",
    "\n",
    "for iid, ls in tqdm(df.groupby(\"image_id\").name):\n",
    "    for a in ls:\n",
    "        for b in ls:\n",
    "            # print(a, b)\n",
    "            if not a == b:\n",
    "                cooc.loc[a, b] += 1"
   ]
  },
  {
   "cell_type": "code",
   "execution_count": null,
   "id": "5a8ebd78-b3f8-4df2-bca5-76f1cb756f18",
   "metadata": {},
   "outputs": [],
   "source": [
    "cooc.sum(0).sort_values()"
   ]
  },
  {
   "cell_type": "code",
   "execution_count": null,
   "id": "4da67d5d-a331-460d-914a-4e6509eedd2d",
   "metadata": {
    "scrolled": true
   },
   "outputs": [],
   "source": [
    "cooc.loc[\"group portrait\"].sort_values()\n",
    "\n",
    "# df.name.apply(lambda x: x == \"group portrait\").sum()"
   ]
  },
  {
   "cell_type": "code",
   "execution_count": null,
   "id": "00062bb3-310e-453d-a85b-da7a909955ae",
   "metadata": {},
   "outputs": [],
   "source": []
  }
 ],
 "metadata": {
  "kernelspec": {
   "display_name": "Python 3 (ipykernel)",
   "language": "python",
   "name": "python3"
  },
  "language_info": {
   "codemirror_mode": {
    "name": "ipython",
    "version": 3
   },
   "file_extension": ".py",
   "mimetype": "text/x-python",
   "name": "python",
   "nbconvert_exporter": "python",
   "pygments_lexer": "ipython3",
   "version": "3.12.7"
  }
 },
 "nbformat": 4,
 "nbformat_minor": 5
}
